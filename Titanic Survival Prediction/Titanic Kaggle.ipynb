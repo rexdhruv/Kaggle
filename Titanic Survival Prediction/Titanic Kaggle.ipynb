{
 "cells": [
  {
   "cell_type": "markdown",
   "id": "ee266e78",
   "metadata": {},
   "source": [
    "# Titanic Project\n",
    "## Problem Statement:\n",
    "The Titanic Problem is based on the sinking of the ‘Unsinkable’ ship Titanic in early 1912. It gives you information about multiple people like their ages, sexes, sibling counts, embarkment points, and whether or not they survived the disaster. Based on these features, you have to predict if an arbitrary passenger on Titanic would survive the sinking or not. "
   ]
  },
  {
   "cell_type": "markdown",
   "id": "61796949",
   "metadata": {
    "papermill": {
     "duration": 0.039776,
     "end_time": "2021-12-16T16:11:31.570157",
     "exception": false,
     "start_time": "2021-12-16T16:11:31.530381",
     "status": "completed"
    },
    "tags": []
   },
   "source": [
    "### Importing required libraries"
   ]
  },
  {
   "cell_type": "code",
   "execution_count": 1,
   "id": "301058a3",
   "metadata": {
    "_cell_guid": "b1076dfc-b9ad-4769-8c92-a6c4dae69d19",
    "_uuid": "8f2839f25d086af736a60e9eeb907d3b93b6e0e5",
    "execution": {
     "iopub.execute_input": "2021-12-16T16:11:31.650868Z",
     "iopub.status.busy": "2021-12-16T16:11:31.649636Z",
     "iopub.status.idle": "2021-12-16T16:11:33.251733Z",
     "shell.execute_reply": "2021-12-16T16:11:33.250697Z",
     "shell.execute_reply.started": "2021-12-16T16:08:05.171442Z"
    },
    "papermill": {
     "duration": 1.643321,
     "end_time": "2021-12-16T16:11:33.251925",
     "exception": false,
     "start_time": "2021-12-16T16:11:31.608604",
     "status": "completed"
    },
    "tags": []
   },
   "outputs": [],
   "source": [
    "import numpy as np\n",
    "import pandas as pd\n",
    "import matplotlib.pyplot as plt\n",
    "import seaborn as sns\n",
    "%matplotlib inline\n",
    "\n",
    "from scipy.stats import shapiro\n",
    "from imblearn.over_sampling import SMOTE\n",
    "\n",
    "import warnings\n",
    "warnings.filterwarnings('ignore')"
   ]
  },
  {
   "cell_type": "markdown",
   "id": "13e4ea41",
   "metadata": {},
   "source": [
    "#### Import the dataset titanic_train"
   ]
  },
  {
   "cell_type": "code",
   "execution_count": 2,
   "id": "58dbde6e",
   "metadata": {
    "execution": {
     "iopub.execute_input": "2021-12-16T16:11:33.336684Z",
     "iopub.status.busy": "2021-12-16T16:11:33.335968Z",
     "iopub.status.idle": "2021-12-16T16:11:33.376900Z",
     "shell.execute_reply": "2021-12-16T16:11:33.377453Z",
     "shell.execute_reply.started": "2021-12-16T16:08:05.789126Z"
    },
    "papermill": {
     "duration": 0.08392,
     "end_time": "2021-12-16T16:11:33.377634",
     "exception": false,
     "start_time": "2021-12-16T16:11:33.293714",
     "status": "completed"
    },
    "tags": []
   },
   "outputs": [],
   "source": [
    "train = pd.read_csv(r\"train.csv\")\n",
    "test = pd.read_csv(r\"test.csv\")"
   ]
  },
  {
   "cell_type": "code",
   "execution_count": 3,
   "id": "b35ad068",
   "metadata": {},
   "outputs": [
    {
     "data": {
      "text/html": [
       "<div>\n",
       "<style scoped>\n",
       "    .dataframe tbody tr th:only-of-type {\n",
       "        vertical-align: middle;\n",
       "    }\n",
       "\n",
       "    .dataframe tbody tr th {\n",
       "        vertical-align: top;\n",
       "    }\n",
       "\n",
       "    .dataframe thead th {\n",
       "        text-align: right;\n",
       "    }\n",
       "</style>\n",
       "<table border=\"1\" class=\"dataframe\">\n",
       "  <thead>\n",
       "    <tr style=\"text-align: right;\">\n",
       "      <th></th>\n",
       "      <th>PassengerId</th>\n",
       "      <th>Survived</th>\n",
       "      <th>Pclass</th>\n",
       "      <th>Name</th>\n",
       "      <th>Sex</th>\n",
       "      <th>Age</th>\n",
       "      <th>SibSp</th>\n",
       "      <th>Parch</th>\n",
       "      <th>Ticket</th>\n",
       "      <th>Fare</th>\n",
       "      <th>Cabin</th>\n",
       "      <th>Embarked</th>\n",
       "    </tr>\n",
       "  </thead>\n",
       "  <tbody>\n",
       "    <tr>\n",
       "      <th>0</th>\n",
       "      <td>1</td>\n",
       "      <td>0</td>\n",
       "      <td>3</td>\n",
       "      <td>Braund, Mr. Owen Harris</td>\n",
       "      <td>male</td>\n",
       "      <td>22.0</td>\n",
       "      <td>1</td>\n",
       "      <td>0</td>\n",
       "      <td>A/5 21171</td>\n",
       "      <td>7.2500</td>\n",
       "      <td>NaN</td>\n",
       "      <td>S</td>\n",
       "    </tr>\n",
       "    <tr>\n",
       "      <th>1</th>\n",
       "      <td>2</td>\n",
       "      <td>1</td>\n",
       "      <td>1</td>\n",
       "      <td>Cumings, Mrs. John Bradley (Florence Briggs Th...</td>\n",
       "      <td>female</td>\n",
       "      <td>38.0</td>\n",
       "      <td>1</td>\n",
       "      <td>0</td>\n",
       "      <td>PC 17599</td>\n",
       "      <td>71.2833</td>\n",
       "      <td>C85</td>\n",
       "      <td>C</td>\n",
       "    </tr>\n",
       "    <tr>\n",
       "      <th>2</th>\n",
       "      <td>3</td>\n",
       "      <td>1</td>\n",
       "      <td>3</td>\n",
       "      <td>Heikkinen, Miss. Laina</td>\n",
       "      <td>female</td>\n",
       "      <td>26.0</td>\n",
       "      <td>0</td>\n",
       "      <td>0</td>\n",
       "      <td>STON/O2. 3101282</td>\n",
       "      <td>7.9250</td>\n",
       "      <td>NaN</td>\n",
       "      <td>S</td>\n",
       "    </tr>\n",
       "    <tr>\n",
       "      <th>3</th>\n",
       "      <td>4</td>\n",
       "      <td>1</td>\n",
       "      <td>1</td>\n",
       "      <td>Futrelle, Mrs. Jacques Heath (Lily May Peel)</td>\n",
       "      <td>female</td>\n",
       "      <td>35.0</td>\n",
       "      <td>1</td>\n",
       "      <td>0</td>\n",
       "      <td>113803</td>\n",
       "      <td>53.1000</td>\n",
       "      <td>C123</td>\n",
       "      <td>S</td>\n",
       "    </tr>\n",
       "    <tr>\n",
       "      <th>4</th>\n",
       "      <td>5</td>\n",
       "      <td>0</td>\n",
       "      <td>3</td>\n",
       "      <td>Allen, Mr. William Henry</td>\n",
       "      <td>male</td>\n",
       "      <td>35.0</td>\n",
       "      <td>0</td>\n",
       "      <td>0</td>\n",
       "      <td>373450</td>\n",
       "      <td>8.0500</td>\n",
       "      <td>NaN</td>\n",
       "      <td>S</td>\n",
       "    </tr>\n",
       "  </tbody>\n",
       "</table>\n",
       "</div>"
      ],
      "text/plain": [
       "   PassengerId  Survived  Pclass  \\\n",
       "0            1         0       3   \n",
       "1            2         1       1   \n",
       "2            3         1       3   \n",
       "3            4         1       1   \n",
       "4            5         0       3   \n",
       "\n",
       "                                                Name     Sex   Age  SibSp  \\\n",
       "0                            Braund, Mr. Owen Harris    male  22.0      1   \n",
       "1  Cumings, Mrs. John Bradley (Florence Briggs Th...  female  38.0      1   \n",
       "2                             Heikkinen, Miss. Laina  female  26.0      0   \n",
       "3       Futrelle, Mrs. Jacques Heath (Lily May Peel)  female  35.0      1   \n",
       "4                           Allen, Mr. William Henry    male  35.0      0   \n",
       "\n",
       "   Parch            Ticket     Fare Cabin Embarked  \n",
       "0      0         A/5 21171   7.2500   NaN        S  \n",
       "1      0          PC 17599  71.2833   C85        C  \n",
       "2      0  STON/O2. 3101282   7.9250   NaN        S  \n",
       "3      0            113803  53.1000  C123        S  \n",
       "4      0            373450   8.0500   NaN        S  "
      ]
     },
     "execution_count": 3,
     "metadata": {},
     "output_type": "execute_result"
    }
   ],
   "source": [
    "train.head()"
   ]
  },
  {
   "cell_type": "code",
   "execution_count": 4,
   "id": "a2ef762d",
   "metadata": {},
   "outputs": [
    {
     "data": {
      "text/html": [
       "<div>\n",
       "<style scoped>\n",
       "    .dataframe tbody tr th:only-of-type {\n",
       "        vertical-align: middle;\n",
       "    }\n",
       "\n",
       "    .dataframe tbody tr th {\n",
       "        vertical-align: top;\n",
       "    }\n",
       "\n",
       "    .dataframe thead th {\n",
       "        text-align: right;\n",
       "    }\n",
       "</style>\n",
       "<table border=\"1\" class=\"dataframe\">\n",
       "  <thead>\n",
       "    <tr style=\"text-align: right;\">\n",
       "      <th></th>\n",
       "      <th>PassengerId</th>\n",
       "      <th>Pclass</th>\n",
       "      <th>Name</th>\n",
       "      <th>Sex</th>\n",
       "      <th>Age</th>\n",
       "      <th>SibSp</th>\n",
       "      <th>Parch</th>\n",
       "      <th>Ticket</th>\n",
       "      <th>Fare</th>\n",
       "      <th>Cabin</th>\n",
       "      <th>Embarked</th>\n",
       "    </tr>\n",
       "  </thead>\n",
       "  <tbody>\n",
       "    <tr>\n",
       "      <th>413</th>\n",
       "      <td>1305</td>\n",
       "      <td>3</td>\n",
       "      <td>Spector, Mr. Woolf</td>\n",
       "      <td>male</td>\n",
       "      <td>NaN</td>\n",
       "      <td>0</td>\n",
       "      <td>0</td>\n",
       "      <td>A.5. 3236</td>\n",
       "      <td>8.0500</td>\n",
       "      <td>NaN</td>\n",
       "      <td>S</td>\n",
       "    </tr>\n",
       "    <tr>\n",
       "      <th>414</th>\n",
       "      <td>1306</td>\n",
       "      <td>1</td>\n",
       "      <td>Oliva y Ocana, Dona. Fermina</td>\n",
       "      <td>female</td>\n",
       "      <td>39.0</td>\n",
       "      <td>0</td>\n",
       "      <td>0</td>\n",
       "      <td>PC 17758</td>\n",
       "      <td>108.9000</td>\n",
       "      <td>C105</td>\n",
       "      <td>C</td>\n",
       "    </tr>\n",
       "    <tr>\n",
       "      <th>415</th>\n",
       "      <td>1307</td>\n",
       "      <td>3</td>\n",
       "      <td>Saether, Mr. Simon Sivertsen</td>\n",
       "      <td>male</td>\n",
       "      <td>38.5</td>\n",
       "      <td>0</td>\n",
       "      <td>0</td>\n",
       "      <td>SOTON/O.Q. 3101262</td>\n",
       "      <td>7.2500</td>\n",
       "      <td>NaN</td>\n",
       "      <td>S</td>\n",
       "    </tr>\n",
       "    <tr>\n",
       "      <th>416</th>\n",
       "      <td>1308</td>\n",
       "      <td>3</td>\n",
       "      <td>Ware, Mr. Frederick</td>\n",
       "      <td>male</td>\n",
       "      <td>NaN</td>\n",
       "      <td>0</td>\n",
       "      <td>0</td>\n",
       "      <td>359309</td>\n",
       "      <td>8.0500</td>\n",
       "      <td>NaN</td>\n",
       "      <td>S</td>\n",
       "    </tr>\n",
       "    <tr>\n",
       "      <th>417</th>\n",
       "      <td>1309</td>\n",
       "      <td>3</td>\n",
       "      <td>Peter, Master. Michael J</td>\n",
       "      <td>male</td>\n",
       "      <td>NaN</td>\n",
       "      <td>1</td>\n",
       "      <td>1</td>\n",
       "      <td>2668</td>\n",
       "      <td>22.3583</td>\n",
       "      <td>NaN</td>\n",
       "      <td>C</td>\n",
       "    </tr>\n",
       "  </tbody>\n",
       "</table>\n",
       "</div>"
      ],
      "text/plain": [
       "     PassengerId  Pclass                          Name     Sex   Age  SibSp  \\\n",
       "413         1305       3            Spector, Mr. Woolf    male   NaN      0   \n",
       "414         1306       1  Oliva y Ocana, Dona. Fermina  female  39.0      0   \n",
       "415         1307       3  Saether, Mr. Simon Sivertsen    male  38.5      0   \n",
       "416         1308       3           Ware, Mr. Frederick    male   NaN      0   \n",
       "417         1309       3      Peter, Master. Michael J    male   NaN      1   \n",
       "\n",
       "     Parch              Ticket      Fare Cabin Embarked  \n",
       "413      0           A.5. 3236    8.0500   NaN        S  \n",
       "414      0            PC 17758  108.9000  C105        C  \n",
       "415      0  SOTON/O.Q. 3101262    7.2500   NaN        S  \n",
       "416      0              359309    8.0500   NaN        S  \n",
       "417      1                2668   22.3583   NaN        C  "
      ]
     },
     "execution_count": 4,
     "metadata": {},
     "output_type": "execute_result"
    }
   ],
   "source": [
    "test.tail()"
   ]
  },
  {
   "cell_type": "code",
   "execution_count": 5,
   "id": "cc585255",
   "metadata": {},
   "outputs": [
    {
     "data": {
      "text/plain": [
       "((891, 12), (418, 11))"
      ]
     },
     "execution_count": 5,
     "metadata": {},
     "output_type": "execute_result"
    }
   ],
   "source": [
    "train.shape, test.shape"
   ]
  },
  {
   "cell_type": "markdown",
   "id": "05687a42",
   "metadata": {},
   "source": [
    "##### Observations:\n",
    "1. This shows that the dataset is imported successfully.\n",
    "2. The train data consists of 891 training examples with 12 features.\n",
    "3. Tes test data consists of 418 testing examples with 11 features."
   ]
  },
  {
   "cell_type": "markdown",
   "id": "6766f50d",
   "metadata": {},
   "source": [
    "### Let's check the statistical discription of the data"
   ]
  },
  {
   "cell_type": "code",
   "execution_count": 6,
   "id": "95e81d9a",
   "metadata": {
    "execution": {
     "iopub.execute_input": "2021-12-16T16:11:33.582072Z",
     "iopub.status.busy": "2021-12-16T16:11:33.581419Z",
     "iopub.status.idle": "2021-12-16T16:11:33.597292Z",
     "shell.execute_reply": "2021-12-16T16:11:33.597782Z",
     "shell.execute_reply.started": "2021-12-16T16:08:05.858532Z"
    },
    "papermill": {
     "duration": 0.058352,
     "end_time": "2021-12-16T16:11:33.597975",
     "exception": false,
     "start_time": "2021-12-16T16:11:33.539623",
     "status": "completed"
    },
    "tags": []
   },
   "outputs": [
    {
     "name": "stdout",
     "output_type": "stream",
     "text": [
      "<class 'pandas.core.frame.DataFrame'>\n",
      "RangeIndex: 891 entries, 0 to 890\n",
      "Data columns (total 12 columns):\n",
      " #   Column       Non-Null Count  Dtype  \n",
      "---  ------       --------------  -----  \n",
      " 0   PassengerId  891 non-null    int64  \n",
      " 1   Survived     891 non-null    int64  \n",
      " 2   Pclass       891 non-null    int64  \n",
      " 3   Name         891 non-null    object \n",
      " 4   Sex          891 non-null    object \n",
      " 5   Age          714 non-null    float64\n",
      " 6   SibSp        891 non-null    int64  \n",
      " 7   Parch        891 non-null    int64  \n",
      " 8   Ticket       891 non-null    object \n",
      " 9   Fare         891 non-null    float64\n",
      " 10  Cabin        204 non-null    object \n",
      " 11  Embarked     889 non-null    object \n",
      "dtypes: float64(2), int64(5), object(5)\n",
      "memory usage: 83.7+ KB\n"
     ]
    }
   ],
   "source": [
    "train.info()"
   ]
  },
  {
   "cell_type": "markdown",
   "id": "ed06c96d",
   "metadata": {},
   "source": [
    "##### Observation:\n",
    "1. Columns contains 5 integer type variables, 2 float type variables and 5 object type variables\n",
    "2. 3 Columns are incomplete"
   ]
  },
  {
   "cell_type": "markdown",
   "id": "699ada52",
   "metadata": {},
   "source": [
    "### Let's check columns having null values"
   ]
  },
  {
   "cell_type": "code",
   "execution_count": 7,
   "id": "39a2a55e",
   "metadata": {
    "execution": {
     "iopub.execute_input": "2021-12-16T16:11:33.682380Z",
     "iopub.status.busy": "2021-12-16T16:11:33.681383Z",
     "iopub.status.idle": "2021-12-16T16:11:33.689499Z",
     "shell.execute_reply": "2021-12-16T16:11:33.690069Z",
     "shell.execute_reply.started": "2021-12-16T16:08:05.876327Z"
    },
    "papermill": {
     "duration": 0.051544,
     "end_time": "2021-12-16T16:11:33.690263",
     "exception": false,
     "start_time": "2021-12-16T16:11:33.638719",
     "status": "completed"
    },
    "tags": []
   },
   "outputs": [
    {
     "data": {
      "text/plain": [
       "PassengerId      0\n",
       "Survived         0\n",
       "Pclass           0\n",
       "Name             0\n",
       "Sex              0\n",
       "Age            177\n",
       "SibSp            0\n",
       "Parch            0\n",
       "Ticket           0\n",
       "Fare             0\n",
       "Cabin          687\n",
       "Embarked         2\n",
       "dtype: int64"
      ]
     },
     "execution_count": 7,
     "metadata": {},
     "output_type": "execute_result"
    }
   ],
   "source": [
    "train.isnull().sum()"
   ]
  },
  {
   "cell_type": "markdown",
   "id": "0888cf6d",
   "metadata": {},
   "source": [
    "#### In this section we are going to explore and analyze the numerical features. So let's get start with the statistical information of the data."
   ]
  },
  {
   "cell_type": "code",
   "execution_count": 8,
   "id": "387d87ce",
   "metadata": {
    "execution": {
     "iopub.execute_input": "2021-12-16T16:11:33.467482Z",
     "iopub.status.busy": "2021-12-16T16:11:33.466769Z",
     "iopub.status.idle": "2021-12-16T16:11:33.499784Z",
     "shell.execute_reply": "2021-12-16T16:11:33.500407Z",
     "shell.execute_reply.started": "2021-12-16T16:08:05.821690Z"
    },
    "papermill": {
     "duration": 0.081888,
     "end_time": "2021-12-16T16:11:33.500579",
     "exception": false,
     "start_time": "2021-12-16T16:11:33.418691",
     "status": "completed"
    },
    "scrolled": false,
    "tags": []
   },
   "outputs": [
    {
     "data": {
      "text/html": [
       "<div>\n",
       "<style scoped>\n",
       "    .dataframe tbody tr th:only-of-type {\n",
       "        vertical-align: middle;\n",
       "    }\n",
       "\n",
       "    .dataframe tbody tr th {\n",
       "        vertical-align: top;\n",
       "    }\n",
       "\n",
       "    .dataframe thead th {\n",
       "        text-align: right;\n",
       "    }\n",
       "</style>\n",
       "<table border=\"1\" class=\"dataframe\">\n",
       "  <thead>\n",
       "    <tr style=\"text-align: right;\">\n",
       "      <th></th>\n",
       "      <th>PassengerId</th>\n",
       "      <th>Survived</th>\n",
       "      <th>Pclass</th>\n",
       "      <th>Age</th>\n",
       "      <th>SibSp</th>\n",
       "      <th>Parch</th>\n",
       "      <th>Fare</th>\n",
       "    </tr>\n",
       "  </thead>\n",
       "  <tbody>\n",
       "    <tr>\n",
       "      <th>count</th>\n",
       "      <td>891.000000</td>\n",
       "      <td>891.000000</td>\n",
       "      <td>891.000000</td>\n",
       "      <td>714.000000</td>\n",
       "      <td>891.000000</td>\n",
       "      <td>891.000000</td>\n",
       "      <td>891.000000</td>\n",
       "    </tr>\n",
       "    <tr>\n",
       "      <th>mean</th>\n",
       "      <td>446.000000</td>\n",
       "      <td>0.383838</td>\n",
       "      <td>2.308642</td>\n",
       "      <td>29.699118</td>\n",
       "      <td>0.523008</td>\n",
       "      <td>0.381594</td>\n",
       "      <td>32.204208</td>\n",
       "    </tr>\n",
       "    <tr>\n",
       "      <th>std</th>\n",
       "      <td>257.353842</td>\n",
       "      <td>0.486592</td>\n",
       "      <td>0.836071</td>\n",
       "      <td>14.526497</td>\n",
       "      <td>1.102743</td>\n",
       "      <td>0.806057</td>\n",
       "      <td>49.693429</td>\n",
       "    </tr>\n",
       "    <tr>\n",
       "      <th>min</th>\n",
       "      <td>1.000000</td>\n",
       "      <td>0.000000</td>\n",
       "      <td>1.000000</td>\n",
       "      <td>0.420000</td>\n",
       "      <td>0.000000</td>\n",
       "      <td>0.000000</td>\n",
       "      <td>0.000000</td>\n",
       "    </tr>\n",
       "    <tr>\n",
       "      <th>25%</th>\n",
       "      <td>223.500000</td>\n",
       "      <td>0.000000</td>\n",
       "      <td>2.000000</td>\n",
       "      <td>20.125000</td>\n",
       "      <td>0.000000</td>\n",
       "      <td>0.000000</td>\n",
       "      <td>7.910400</td>\n",
       "    </tr>\n",
       "    <tr>\n",
       "      <th>50%</th>\n",
       "      <td>446.000000</td>\n",
       "      <td>0.000000</td>\n",
       "      <td>3.000000</td>\n",
       "      <td>28.000000</td>\n",
       "      <td>0.000000</td>\n",
       "      <td>0.000000</td>\n",
       "      <td>14.454200</td>\n",
       "    </tr>\n",
       "    <tr>\n",
       "      <th>75%</th>\n",
       "      <td>668.500000</td>\n",
       "      <td>1.000000</td>\n",
       "      <td>3.000000</td>\n",
       "      <td>38.000000</td>\n",
       "      <td>1.000000</td>\n",
       "      <td>0.000000</td>\n",
       "      <td>31.000000</td>\n",
       "    </tr>\n",
       "    <tr>\n",
       "      <th>max</th>\n",
       "      <td>891.000000</td>\n",
       "      <td>1.000000</td>\n",
       "      <td>3.000000</td>\n",
       "      <td>80.000000</td>\n",
       "      <td>8.000000</td>\n",
       "      <td>6.000000</td>\n",
       "      <td>512.329200</td>\n",
       "    </tr>\n",
       "  </tbody>\n",
       "</table>\n",
       "</div>"
      ],
      "text/plain": [
       "       PassengerId    Survived      Pclass         Age       SibSp  \\\n",
       "count   891.000000  891.000000  891.000000  714.000000  891.000000   \n",
       "mean    446.000000    0.383838    2.308642   29.699118    0.523008   \n",
       "std     257.353842    0.486592    0.836071   14.526497    1.102743   \n",
       "min       1.000000    0.000000    1.000000    0.420000    0.000000   \n",
       "25%     223.500000    0.000000    2.000000   20.125000    0.000000   \n",
       "50%     446.000000    0.000000    3.000000   28.000000    0.000000   \n",
       "75%     668.500000    1.000000    3.000000   38.000000    1.000000   \n",
       "max     891.000000    1.000000    3.000000   80.000000    8.000000   \n",
       "\n",
       "            Parch        Fare  \n",
       "count  891.000000  891.000000  \n",
       "mean     0.381594   32.204208  \n",
       "std      0.806057   49.693429  \n",
       "min      0.000000    0.000000  \n",
       "25%      0.000000    7.910400  \n",
       "50%      0.000000   14.454200  \n",
       "75%      0.000000   31.000000  \n",
       "max      6.000000  512.329200  "
      ]
     },
     "execution_count": 8,
     "metadata": {},
     "output_type": "execute_result"
    }
   ],
   "source": [
    "train.describe()"
   ]
  },
  {
   "cell_type": "markdown",
   "id": "df671556",
   "metadata": {
    "papermill": {
     "duration": 0.040758,
     "end_time": "2021-12-16T16:11:33.771068",
     "exception": false,
     "start_time": "2021-12-16T16:11:33.730310",
     "status": "completed"
    },
    "tags": []
   },
   "source": [
    "# Data Preprocessing"
   ]
  },
  {
   "cell_type": "markdown",
   "id": "13b413a2",
   "metadata": {},
   "source": [
    "As, the dataset is not cleaned, we will treat the dataset so that -\n",
    "1. All the null values or the missing values will be filled using mean, median or mode\n",
    "2. Drop all the unwanted columns which have nothing to do or have minimum relation with the survived column\n",
    "3. Change/replace the categorical values with numbers"
   ]
  },
  {
   "cell_type": "code",
   "execution_count": 9,
   "id": "26331866",
   "metadata": {
    "execution": {
     "iopub.execute_input": "2021-12-16T16:11:33.856681Z",
     "iopub.status.busy": "2021-12-16T16:11:33.855974Z",
     "iopub.status.idle": "2021-12-16T16:11:33.865605Z",
     "shell.execute_reply": "2021-12-16T16:11:33.866197Z",
     "shell.execute_reply.started": "2021-12-16T16:10:26.120971Z"
    },
    "papermill": {
     "duration": 0.053394,
     "end_time": "2021-12-16T16:11:33.866377",
     "exception": false,
     "start_time": "2021-12-16T16:11:33.812983",
     "status": "completed"
    },
    "tags": []
   },
   "outputs": [],
   "source": [
    "def data_pipeline(train):\n",
    "    train[\"Age\"].fillna((train[\"Age\"].mean()), inplace=True)\n",
    "    train = train.drop([\"Name\", \"Ticket\"], axis=1)\n",
    "    train.Sex.replace(to_replace=dict(female=1, male=0), inplace=True)\n",
    "    train.Embarked.replace(to_replace=dict(Q=1, C=2, S=3), inplace=True)\n",
    "    train[\"Embarked\"].fillna((train[\"Embarked\"].mean()), inplace=True)\n",
    "    train['Cabin'] = train['Cabin'].str.extract('([A-Za-z])', expand=False)\n",
    "    train.Cabin.replace(to_replace=dict(A=1, B=2, C=3, D=4, E=5, F=6, G=7, T=8), inplace=True)\n",
    "    train[\"Cabin\"].fillna((train[\"Cabin\"].median()), inplace=True)\n",
    "    #train = train.drop([\"Cabin\"], axis=1)\n",
    "    train[\"Fare\"].fillna((train[\"Fare\"].mean()), inplace=True)\n",
    "    return train"
   ]
  },
  {
   "cell_type": "code",
   "execution_count": 10,
   "id": "412dc6de",
   "metadata": {
    "execution": {
     "iopub.execute_input": "2021-12-16T16:11:33.952003Z",
     "iopub.status.busy": "2021-12-16T16:11:33.951255Z",
     "iopub.status.idle": "2021-12-16T16:11:33.963374Z",
     "shell.execute_reply": "2021-12-16T16:11:33.963981Z",
     "shell.execute_reply.started": "2021-12-16T16:08:05.912327Z"
    },
    "papermill": {
     "duration": 0.057247,
     "end_time": "2021-12-16T16:11:33.964169",
     "exception": false,
     "start_time": "2021-12-16T16:11:33.906922",
     "status": "completed"
    },
    "tags": []
   },
   "outputs": [],
   "source": [
    "train = data_pipeline(train)"
   ]
  },
  {
   "cell_type": "code",
   "execution_count": 11,
   "id": "1fc9f3e3",
   "metadata": {},
   "outputs": [],
   "source": [
    "test = data_pipeline(test)"
   ]
  },
  {
   "cell_type": "code",
   "execution_count": 12,
   "id": "593c24d6",
   "metadata": {
    "execution": {
     "iopub.execute_input": "2021-12-16T16:11:34.051802Z",
     "iopub.status.busy": "2021-12-16T16:11:34.049155Z",
     "iopub.status.idle": "2021-12-16T16:11:34.068264Z",
     "shell.execute_reply": "2021-12-16T16:11:34.068730Z",
     "shell.execute_reply.started": "2021-12-16T16:08:05.939722Z"
    },
    "papermill": {
     "duration": 0.063061,
     "end_time": "2021-12-16T16:11:34.068908",
     "exception": false,
     "start_time": "2021-12-16T16:11:34.005847",
     "status": "completed"
    },
    "tags": []
   },
   "outputs": [
    {
     "data": {
      "text/html": [
       "<div>\n",
       "<style scoped>\n",
       "    .dataframe tbody tr th:only-of-type {\n",
       "        vertical-align: middle;\n",
       "    }\n",
       "\n",
       "    .dataframe tbody tr th {\n",
       "        vertical-align: top;\n",
       "    }\n",
       "\n",
       "    .dataframe thead th {\n",
       "        text-align: right;\n",
       "    }\n",
       "</style>\n",
       "<table border=\"1\" class=\"dataframe\">\n",
       "  <thead>\n",
       "    <tr style=\"text-align: right;\">\n",
       "      <th></th>\n",
       "      <th>PassengerId</th>\n",
       "      <th>Survived</th>\n",
       "      <th>Pclass</th>\n",
       "      <th>Sex</th>\n",
       "      <th>Age</th>\n",
       "      <th>SibSp</th>\n",
       "      <th>Parch</th>\n",
       "      <th>Fare</th>\n",
       "      <th>Cabin</th>\n",
       "      <th>Embarked</th>\n",
       "    </tr>\n",
       "  </thead>\n",
       "  <tbody>\n",
       "    <tr>\n",
       "      <th>0</th>\n",
       "      <td>1</td>\n",
       "      <td>0</td>\n",
       "      <td>3</td>\n",
       "      <td>0</td>\n",
       "      <td>22.0</td>\n",
       "      <td>1</td>\n",
       "      <td>0</td>\n",
       "      <td>7.2500</td>\n",
       "      <td>3.0</td>\n",
       "      <td>3.0</td>\n",
       "    </tr>\n",
       "    <tr>\n",
       "      <th>1</th>\n",
       "      <td>2</td>\n",
       "      <td>1</td>\n",
       "      <td>1</td>\n",
       "      <td>1</td>\n",
       "      <td>38.0</td>\n",
       "      <td>1</td>\n",
       "      <td>0</td>\n",
       "      <td>71.2833</td>\n",
       "      <td>3.0</td>\n",
       "      <td>2.0</td>\n",
       "    </tr>\n",
       "    <tr>\n",
       "      <th>2</th>\n",
       "      <td>3</td>\n",
       "      <td>1</td>\n",
       "      <td>3</td>\n",
       "      <td>1</td>\n",
       "      <td>26.0</td>\n",
       "      <td>0</td>\n",
       "      <td>0</td>\n",
       "      <td>7.9250</td>\n",
       "      <td>3.0</td>\n",
       "      <td>3.0</td>\n",
       "    </tr>\n",
       "    <tr>\n",
       "      <th>3</th>\n",
       "      <td>4</td>\n",
       "      <td>1</td>\n",
       "      <td>1</td>\n",
       "      <td>1</td>\n",
       "      <td>35.0</td>\n",
       "      <td>1</td>\n",
       "      <td>0</td>\n",
       "      <td>53.1000</td>\n",
       "      <td>3.0</td>\n",
       "      <td>3.0</td>\n",
       "    </tr>\n",
       "    <tr>\n",
       "      <th>4</th>\n",
       "      <td>5</td>\n",
       "      <td>0</td>\n",
       "      <td>3</td>\n",
       "      <td>0</td>\n",
       "      <td>35.0</td>\n",
       "      <td>0</td>\n",
       "      <td>0</td>\n",
       "      <td>8.0500</td>\n",
       "      <td>3.0</td>\n",
       "      <td>3.0</td>\n",
       "    </tr>\n",
       "  </tbody>\n",
       "</table>\n",
       "</div>"
      ],
      "text/plain": [
       "   PassengerId  Survived  Pclass  Sex   Age  SibSp  Parch     Fare  Cabin  \\\n",
       "0            1         0       3    0  22.0      1      0   7.2500    3.0   \n",
       "1            2         1       1    1  38.0      1      0  71.2833    3.0   \n",
       "2            3         1       3    1  26.0      0      0   7.9250    3.0   \n",
       "3            4         1       1    1  35.0      1      0  53.1000    3.0   \n",
       "4            5         0       3    0  35.0      0      0   8.0500    3.0   \n",
       "\n",
       "   Embarked  \n",
       "0       3.0  \n",
       "1       2.0  \n",
       "2       3.0  \n",
       "3       3.0  \n",
       "4       3.0  "
      ]
     },
     "execution_count": 12,
     "metadata": {},
     "output_type": "execute_result"
    }
   ],
   "source": [
    "train.head()"
   ]
  },
  {
   "cell_type": "code",
   "execution_count": 13,
   "id": "c94b98fc",
   "metadata": {},
   "outputs": [
    {
     "data": {
      "text/html": [
       "<div>\n",
       "<style scoped>\n",
       "    .dataframe tbody tr th:only-of-type {\n",
       "        vertical-align: middle;\n",
       "    }\n",
       "\n",
       "    .dataframe tbody tr th {\n",
       "        vertical-align: top;\n",
       "    }\n",
       "\n",
       "    .dataframe thead th {\n",
       "        text-align: right;\n",
       "    }\n",
       "</style>\n",
       "<table border=\"1\" class=\"dataframe\">\n",
       "  <thead>\n",
       "    <tr style=\"text-align: right;\">\n",
       "      <th></th>\n",
       "      <th>PassengerId</th>\n",
       "      <th>Pclass</th>\n",
       "      <th>Sex</th>\n",
       "      <th>Age</th>\n",
       "      <th>SibSp</th>\n",
       "      <th>Parch</th>\n",
       "      <th>Fare</th>\n",
       "      <th>Cabin</th>\n",
       "      <th>Embarked</th>\n",
       "    </tr>\n",
       "  </thead>\n",
       "  <tbody>\n",
       "    <tr>\n",
       "      <th>0</th>\n",
       "      <td>892</td>\n",
       "      <td>3</td>\n",
       "      <td>0</td>\n",
       "      <td>34.5</td>\n",
       "      <td>0</td>\n",
       "      <td>0</td>\n",
       "      <td>7.8292</td>\n",
       "      <td>3.0</td>\n",
       "      <td>1</td>\n",
       "    </tr>\n",
       "    <tr>\n",
       "      <th>1</th>\n",
       "      <td>893</td>\n",
       "      <td>3</td>\n",
       "      <td>1</td>\n",
       "      <td>47.0</td>\n",
       "      <td>1</td>\n",
       "      <td>0</td>\n",
       "      <td>7.0000</td>\n",
       "      <td>3.0</td>\n",
       "      <td>3</td>\n",
       "    </tr>\n",
       "    <tr>\n",
       "      <th>2</th>\n",
       "      <td>894</td>\n",
       "      <td>2</td>\n",
       "      <td>0</td>\n",
       "      <td>62.0</td>\n",
       "      <td>0</td>\n",
       "      <td>0</td>\n",
       "      <td>9.6875</td>\n",
       "      <td>3.0</td>\n",
       "      <td>1</td>\n",
       "    </tr>\n",
       "    <tr>\n",
       "      <th>3</th>\n",
       "      <td>895</td>\n",
       "      <td>3</td>\n",
       "      <td>0</td>\n",
       "      <td>27.0</td>\n",
       "      <td>0</td>\n",
       "      <td>0</td>\n",
       "      <td>8.6625</td>\n",
       "      <td>3.0</td>\n",
       "      <td>3</td>\n",
       "    </tr>\n",
       "    <tr>\n",
       "      <th>4</th>\n",
       "      <td>896</td>\n",
       "      <td>3</td>\n",
       "      <td>1</td>\n",
       "      <td>22.0</td>\n",
       "      <td>1</td>\n",
       "      <td>1</td>\n",
       "      <td>12.2875</td>\n",
       "      <td>3.0</td>\n",
       "      <td>3</td>\n",
       "    </tr>\n",
       "  </tbody>\n",
       "</table>\n",
       "</div>"
      ],
      "text/plain": [
       "   PassengerId  Pclass  Sex   Age  SibSp  Parch     Fare  Cabin  Embarked\n",
       "0          892       3    0  34.5      0      0   7.8292    3.0         1\n",
       "1          893       3    1  47.0      1      0   7.0000    3.0         3\n",
       "2          894       2    0  62.0      0      0   9.6875    3.0         1\n",
       "3          895       3    0  27.0      0      0   8.6625    3.0         3\n",
       "4          896       3    1  22.0      1      1  12.2875    3.0         3"
      ]
     },
     "execution_count": 13,
     "metadata": {},
     "output_type": "execute_result"
    }
   ],
   "source": [
    "test.head()"
   ]
  },
  {
   "cell_type": "markdown",
   "id": "10be4be4",
   "metadata": {},
   "source": [
    "Finally, we got a clean dataset with no missing values, or with unwanted columns and the categorical data is converted into number codes"
   ]
  },
  {
   "cell_type": "markdown",
   "id": "dd30bd5f",
   "metadata": {
    "papermill": {
     "duration": 0.040525,
     "end_time": "2021-12-16T16:11:34.151234",
     "exception": false,
     "start_time": "2021-12-16T16:11:34.110709",
     "status": "completed"
    },
    "tags": []
   },
   "source": [
    "# Data Interpretation and Visualization"
   ]
  },
  {
   "cell_type": "markdown",
   "id": "8e73b6eb",
   "metadata": {
    "papermill": {
     "duration": 0.04127,
     "end_time": "2021-12-16T16:11:34.234015",
     "exception": false,
     "start_time": "2021-12-16T16:11:34.192745",
     "status": "completed"
    },
    "tags": []
   },
   "source": [
    "### Outlier Visualization, Interpretation and Handling"
   ]
  },
  {
   "cell_type": "code",
   "execution_count": 14,
   "id": "8a77917f",
   "metadata": {
    "execution": {
     "iopub.execute_input": "2021-12-16T16:11:34.318700Z",
     "iopub.status.busy": "2021-12-16T16:11:34.318055Z",
     "iopub.status.idle": "2021-12-16T16:11:34.931216Z",
     "shell.execute_reply": "2021-12-16T16:11:34.931735Z",
     "shell.execute_reply.started": "2021-12-16T16:08:05.965370Z"
    },
    "papermill": {
     "duration": 0.657301,
     "end_time": "2021-12-16T16:11:34.931917",
     "exception": false,
     "start_time": "2021-12-16T16:11:34.274616",
     "status": "completed"
    },
    "tags": []
   },
   "outputs": [
    {
     "data": {
      "image/png": "[encoded data removed]",
      "text/plain": [
       "<Figure size 1080x720 with 1 Axes>"
      ]
     },
     "metadata": {
      "needs_background": "light"
     },
     "output_type": "display_data"
    }
   ],
   "source": [
    "plt.figure(figsize=(15, 10))\n",
    "sns.boxplot(x=\"variable\", y=\"value\", data=pd.melt(train), color=\"purple\")\n",
    "sns.stripplot(x=\"variable\", y=\"value\", data=pd.melt(train), color=\"orange\", jitter=0.2, size=2.5)\n",
    "plt.grid()"
   ]
  },
  {
   "cell_type": "markdown",
   "id": "b1f6f370",
   "metadata": {},
   "source": [
    "Here, by using boxplot, we can visualize that some columns having outliers\n",
    "and scatter plots shows the values"
   ]
  },
  {
   "cell_type": "markdown",
   "id": "013e5b04",
   "metadata": {},
   "source": [
    "#### Lets use distplot\n",
    "which Flexibly plot a univariate distribution of observations."
   ]
  },
  {
   "cell_type": "code",
   "execution_count": 15,
   "id": "55d902d4",
   "metadata": {
    "execution": {
     "iopub.execute_input": "2021-12-16T16:11:35.021353Z",
     "iopub.status.busy": "2021-12-16T16:11:35.020656Z",
     "iopub.status.idle": "2021-12-16T16:11:36.934382Z",
     "shell.execute_reply": "2021-12-16T16:11:36.933770Z",
     "shell.execute_reply.started": "2021-12-16T16:08:06.561140Z"
    },
    "papermill": {
     "duration": 1.959182,
     "end_time": "2021-12-16T16:11:36.934542",
     "exception": false,
     "start_time": "2021-12-16T16:11:34.975360",
     "status": "completed"
    },
    "tags": []
   },
   "outputs": [
    {
     "data": {
      "image/png": "[encoded data removed]",
      "text/plain": [
       "<Figure size 1800x1080 with 10 Axes>"
      ]
     },
     "metadata": {
      "needs_background": "light"
     },
     "output_type": "display_data"
    }
   ],
   "source": [
    "a=1\n",
    "plt.figure(figsize=(25, 15))\n",
    "for i in train.columns:\n",
    "    plt.subplot(4, 3, a)\n",
    "    sns.distplot(train[i])\n",
    "    a += 1\n",
    "plt.show()"
   ]
  },
  {
   "cell_type": "code",
   "execution_count": 16,
   "id": "85852719",
   "metadata": {
    "execution": {
     "iopub.execute_input": "2021-12-16T16:11:37.121898Z",
     "iopub.status.busy": "2021-12-16T16:11:37.121208Z",
     "iopub.status.idle": "2021-12-16T16:11:37.132197Z",
     "shell.execute_reply": "2021-12-16T16:11:37.132797Z",
     "shell.execute_reply.started": "2021-12-16T16:08:08.514234Z"
    },
    "papermill": {
     "duration": 0.060103,
     "end_time": "2021-12-16T16:11:37.132974",
     "exception": false,
     "start_time": "2021-12-16T16:11:37.072871",
     "status": "completed"
    },
    "tags": []
   },
   "outputs": [
    {
     "name": "stdout",
     "output_type": "stream",
     "text": [
      "----------------------------------------------\n",
      "PassengerId\n",
      "Statistics=0.955, p=0.000\n",
      "Sample does not look Gaussian (reject H0)\n",
      "----------------------------------------------\n",
      "Survived\n",
      "Statistics=0.617, p=0.000\n",
      "Sample does not look Gaussian (reject H0)\n",
      "----------------------------------------------\n",
      "Pclass\n",
      "Statistics=0.718, p=0.000\n",
      "Sample does not look Gaussian (reject H0)\n",
      "----------------------------------------------\n",
      "Sex\n",
      "Statistics=0.604, p=0.000\n",
      "Sample does not look Gaussian (reject H0)\n",
      "----------------------------------------------\n",
      "Age\n",
      "Statistics=0.959, p=0.000\n",
      "Sample does not look Gaussian (reject H0)\n",
      "----------------------------------------------\n",
      "SibSp\n",
      "Statistics=0.513, p=0.000\n",
      "Sample does not look Gaussian (reject H0)\n",
      "----------------------------------------------\n",
      "Parch\n",
      "Statistics=0.533, p=0.000\n",
      "Sample does not look Gaussian (reject H0)\n",
      "----------------------------------------------\n",
      "Fare\n",
      "Statistics=0.522, p=0.000\n",
      "Sample does not look Gaussian (reject H0)\n",
      "----------------------------------------------\n",
      "Cabin\n",
      "Statistics=0.524, p=0.000\n",
      "Sample does not look Gaussian (reject H0)\n",
      "----------------------------------------------\n",
      "Embarked\n",
      "Statistics=0.599, p=0.000\n",
      "Sample does not look Gaussian (reject H0)\n"
     ]
    }
   ],
   "source": [
    "# Shapiro-Wilk Test\n",
    "for col in train:\n",
    "    stat, p = shapiro(train[col])\n",
    "    print(\"----------------------------------------------\")\n",
    "    print(col)\n",
    "    print('Statistics=%.3f, p=%.3f' % (stat, p))\n",
    "    # interpret\n",
    "    alpha = 0.05\n",
    "    if p > alpha:\n",
    "        print('Sample looks Gaussian (fail to reject H0)')\n",
    "    else:\n",
    "        print('Sample does not look Gaussian (reject H0)')"
   ]
  },
  {
   "cell_type": "markdown",
   "id": "f4388bb6",
   "metadata": {
    "papermill": {
     "duration": 0.045986,
     "end_time": "2021-12-16T16:11:37.225320",
     "exception": false,
     "start_time": "2021-12-16T16:11:37.179334",
     "status": "completed"
    },
    "tags": []
   },
   "source": [
    "#### On the basis of the knowledge gained from above the data in columns are not normal distributed."
   ]
  },
  {
   "cell_type": "markdown",
   "id": "25c66a0c",
   "metadata": {
    "papermill": {
     "duration": 0.045274,
     "end_time": "2021-12-16T16:11:37.316370",
     "exception": false,
     "start_time": "2021-12-16T16:11:37.271096",
     "status": "completed"
    },
    "tags": []
   },
   "source": [
    "### Outlier handling\n",
    "We do not handle any outliers for the following reason:\n",
    "- a woman, with age 75 in the 3rd class has it a lot harder than a man, with 30 ages and in the 1st class\n",
    "\n",
    "This statement will be proven in the section visualizations..."
   ]
  },
  {
   "cell_type": "code",
   "execution_count": 17,
   "id": "b3979b38",
   "metadata": {
    "execution": {
     "iopub.execute_input": "2021-12-16T16:11:37.411113Z",
     "iopub.status.busy": "2021-12-16T16:11:37.410476Z",
     "iopub.status.idle": "2021-12-16T16:11:38.277116Z",
     "shell.execute_reply": "2021-12-16T16:11:38.277663Z",
     "shell.execute_reply.started": "2021-12-16T16:08:08.530061Z"
    },
    "papermill": {
     "duration": 0.91563,
     "end_time": "2021-12-16T16:11:38.277850",
     "exception": false,
     "start_time": "2021-12-16T16:11:37.362220",
     "status": "completed"
    },
    "tags": []
   },
   "outputs": [
    {
     "data": {
      "image/png": "[encoded data removed]",
      "text/plain": [
       "<Figure size 720x576 with 2 Axes>"
      ]
     },
     "metadata": {
      "needs_background": "light"
     },
     "output_type": "display_data"
    }
   ],
   "source": [
    "# Visualize correlations of each column (not necessary but for interest)\n",
    "correlations = train.corr(method=\"pearson\")\n",
    "plt.figure(figsize=(10, 8))\n",
    "sns.heatmap(correlations, vmin= -1, cmap=\"coolwarm\", annot=True)\n",
    "plt.show()"
   ]
  },
  {
   "cell_type": "markdown",
   "id": "3ee53fd6",
   "metadata": {
    "papermill": {
     "duration": 0.04856,
     "end_time": "2021-12-16T16:11:38.375210",
     "exception": false,
     "start_time": "2021-12-16T16:11:38.326650",
     "status": "completed"
    },
    "tags": []
   },
   "source": [
    "### Visualization"
   ]
  },
  {
   "cell_type": "markdown",
   "id": "6caa2467",
   "metadata": {
    "papermill": {
     "duration": 0.048375,
     "end_time": "2021-12-16T16:11:38.472165",
     "exception": false,
     "start_time": "2021-12-16T16:11:38.423790",
     "status": "completed"
    },
    "tags": []
   },
   "source": [
    "#### More Men than Women died:"
   ]
  },
  {
   "cell_type": "code",
   "execution_count": null,
   "id": "5bc9f702",
   "metadata": {
    "execution": {
     "iopub.execute_input": "2021-12-16T16:11:38.572243Z",
     "iopub.status.busy": "2021-12-16T16:11:38.571573Z",
     "iopub.status.idle": "2021-12-16T16:11:38.877515Z",
     "shell.execute_reply": "2021-12-16T16:11:38.876781Z",
     "shell.execute_reply.started": "2021-12-16T16:08:09.446766Z"
    },
    "papermill": {
     "duration": 0.356952,
     "end_time": "2021-12-16T16:11:38.877668",
     "exception": false,
     "start_time": "2021-12-16T16:11:38.520716",
     "status": "completed"
    },
    "tags": []
   },
   "outputs": [],
   "source": [
    "plt.figure(figsize=(20, 8))\n",
    "\n",
    "plt.subplot(1, 2, 1)\n",
    "plt.ylim(0, 600)\n",
    "sns.countplot(data=train, x=\"Survived\")\n",
    "\n",
    "plt.subplot(1, 2, 2)\n",
    "fig_2 = sns.countplot(data=train, x=\"Sex\", hue=\"Survived\")\n",
    "fig_2.set_xticklabels([\"male\", \"female\"])\n",
    "plt.ylim(0, 600)\n",
    "plt.show(fig_2.containers[0])\n",
    "plt.show(fig_2.containers[1])\n",
    "\n",
    "plt.show()"
   ]
  },
  {
   "cell_type": "markdown",
   "id": "33ed5260",
   "metadata": {
    "papermill": {
     "duration": 0.048802,
     "end_time": "2021-12-16T16:11:38.976823",
     "exception": false,
     "start_time": "2021-12-16T16:11:38.928021",
     "status": "completed"
    },
    "tags": []
   },
   "source": [
    "#### Persons which are in the Age Group 30 are died the most but not in percentage:"
   ]
  },
  {
   "cell_type": "code",
   "execution_count": null,
   "id": "7c10dfa2",
   "metadata": {
    "execution": {
     "iopub.execute_input": "2021-12-16T16:11:39.087715Z",
     "iopub.status.busy": "2021-12-16T16:11:39.085328Z",
     "iopub.status.idle": "2021-12-16T16:11:39.401652Z",
     "shell.execute_reply": "2021-12-16T16:11:39.400992Z",
     "shell.execute_reply.started": "2021-12-16T16:08:09.715055Z"
    },
    "papermill": {
     "duration": 0.375785,
     "end_time": "2021-12-16T16:11:39.401789",
     "exception": false,
     "start_time": "2021-12-16T16:11:39.026004",
     "status": "completed"
    },
    "tags": []
   },
   "outputs": [],
   "source": [
    "plt.figure(figsize=(12, 8))\n",
    "sns.histplot(data=train, x=\"Age\", hue=\"Survived\", element=\"step\", kde=True)\n",
    "plt.show()"
   ]
  },
  {
   "cell_type": "markdown",
   "id": "086936fd",
   "metadata": {
    "papermill": {
     "duration": 0.050279,
     "end_time": "2021-12-16T16:11:39.503150",
     "exception": false,
     "start_time": "2021-12-16T16:11:39.452871",
     "status": "completed"
    },
    "tags": []
   },
   "source": [
    "#### According to the Classes 1-3 (1 = 1st class (best class) -> upper levels of the ship, 2 = 2nd class -> middle level of the ship, 3 = 3rd class -> lower levels of the ship) this means that passengers in the 3rd class had it harder to get on top than 1st class passengers:"
   ]
  },
  {
   "cell_type": "code",
   "execution_count": null,
   "id": "f5e4109e",
   "metadata": {
    "execution": {
     "iopub.execute_input": "2021-12-16T16:11:39.632292Z",
     "iopub.status.busy": "2021-12-16T16:11:39.631142Z",
     "iopub.status.idle": "2021-12-16T16:11:39.931051Z",
     "shell.execute_reply": "2021-12-16T16:11:39.930140Z",
     "shell.execute_reply.started": "2021-12-16T16:08:10.058831Z"
    },
    "papermill": {
     "duration": 0.37738,
     "end_time": "2021-12-16T16:11:39.931229",
     "exception": false,
     "start_time": "2021-12-16T16:11:39.553849",
     "status": "completed"
    },
    "tags": []
   },
   "outputs": [],
   "source": [
    "plt.figure(figsize=(20, 8))\n",
    "plt.subplot(1, 2, 1)\n",
    "plt.ylim(0, 550)\n",
    "fig_2 = sns.countplot(data=train, x=\"Pclass\")\n",
    "plt.subplot(1, 2, 2)\n",
    "fig_2 = sns.countplot(data=train, x=\"Pclass\", hue=\"Survived\")\n",
    "fig_2.set_xticklabels([\"1\", \"2\", \"3\"])\n",
    "plt.ylim(0, 550)\n",
    "plt.show(fig_2.containers[0])\n",
    "plt.show(fig_2.containers[1])"
   ]
  },
  {
   "cell_type": "code",
   "execution_count": null,
   "id": "0a3a3176",
   "metadata": {
    "execution": {
     "iopub.execute_input": "2021-12-16T16:11:40.048033Z",
     "iopub.status.busy": "2021-12-16T16:11:40.046968Z",
     "iopub.status.idle": "2021-12-16T16:11:40.426225Z",
     "shell.execute_reply": "2021-12-16T16:11:40.425496Z",
     "shell.execute_reply.started": "2021-12-16T16:08:10.391521Z"
    },
    "papermill": {
     "duration": 0.443651,
     "end_time": "2021-12-16T16:11:40.426412",
     "exception": false,
     "start_time": "2021-12-16T16:11:39.982761",
     "status": "completed"
    },
    "tags": []
   },
   "outputs": [],
   "source": [
    "plt.figure(figsize=(20, 8))\n",
    "plt.subplot(1, 2, 1)\n",
    "plt.ylim(0, 650)\n",
    "sns.countplot(data=train, x=\"SibSp\")\n",
    "\n",
    "\n",
    "plt.subplot(1, 2, 2)\n",
    "fig_4 = sns.countplot(data=train, x=\"SibSp\", hue=\"Survived\")\n",
    "plt.ylim(0, 650)\n",
    "plt.show(fig_4.containers[0])\n",
    "plt.show(fig_4.containers[1])\n"
   ]
  },
  {
   "cell_type": "code",
   "execution_count": null,
   "id": "391f8533",
   "metadata": {
    "execution": {
     "iopub.execute_input": "2021-12-16T16:11:40.555315Z",
     "iopub.status.busy": "2021-12-16T16:11:40.545320Z",
     "iopub.status.idle": "2021-12-16T16:11:40.923962Z",
     "shell.execute_reply": "2021-12-16T16:11:40.923407Z",
     "shell.execute_reply.started": "2021-12-16T16:08:10.781715Z"
    },
    "papermill": {
     "duration": 0.444051,
     "end_time": "2021-12-16T16:11:40.924101",
     "exception": false,
     "start_time": "2021-12-16T16:11:40.480050",
     "status": "completed"
    },
    "tags": []
   },
   "outputs": [],
   "source": [
    "plt.figure(figsize=(20, 8))\n",
    "plt.subplot(1, 2, 1)\n",
    "plt.ylim(0, 700)\n",
    "sns.countplot(data=train, x=\"Parch\")\n",
    "\n",
    "\n",
    "plt.subplot(1, 2, 2)\n",
    "fig_4 = sns.countplot(data=train, x=\"Parch\", hue=\"Survived\")\n",
    "plt.ylim(0, 700)\n",
    "plt.show(fig_4.containers[0])\n",
    "plt.show(fig_4.containers[1])\n"
   ]
  },
  {
   "cell_type": "markdown",
   "id": "3041cb32",
   "metadata": {
    "papermill": {
     "duration": 0.052961,
     "end_time": "2021-12-16T16:11:41.030303",
     "exception": false,
     "start_time": "2021-12-16T16:11:40.977342",
     "status": "completed"
    },
    "tags": []
   },
   "source": [
    "# Preprocessing and Classification"
   ]
  },
  {
   "cell_type": "markdown",
   "id": "039f92ef",
   "metadata": {
    "papermill": {
     "duration": 0.052798,
     "end_time": "2021-12-16T16:11:41.137017",
     "exception": false,
     "start_time": "2021-12-16T16:11:41.084219",
     "status": "completed"
    },
    "tags": []
   },
   "source": [
    "#### First of all we split the Survived column from the other columns and use SMOTE to make the \"Survived\" column distribution equal"
   ]
  },
  {
   "cell_type": "code",
   "execution_count": 18,
   "id": "45688a58",
   "metadata": {
    "execution": {
     "iopub.execute_input": "2021-12-16T16:11:41.260325Z",
     "iopub.status.busy": "2021-12-16T16:11:41.259121Z",
     "iopub.status.idle": "2021-12-16T16:11:41.265674Z",
     "shell.execute_reply": "2021-12-16T16:11:41.264720Z",
     "shell.execute_reply.started": "2021-12-16T16:08:11.189696Z"
    },
    "papermill": {
     "duration": 0.075707,
     "end_time": "2021-12-16T16:11:41.265868",
     "exception": false,
     "start_time": "2021-12-16T16:11:41.190161",
     "status": "completed"
    },
    "tags": []
   },
   "outputs": [
    {
     "data": {
      "text/plain": [
       "0    549\n",
       "1    342\n",
       "Name: Survived, dtype: int64"
      ]
     },
     "execution_count": 18,
     "metadata": {},
     "output_type": "execute_result"
    }
   ],
   "source": [
    "X = train.drop(columns=['PassengerId',\"Survived\"])\n",
    "y = train[\"Survived\"]\n",
    "\n",
    "test_set = test.drop(columns=['PassengerId'])\n",
    "# Show distribution of 0 and 1\n",
    "y.value_counts()"
   ]
  },
  {
   "cell_type": "code",
   "execution_count": 19,
   "id": "637f6e7f",
   "metadata": {},
   "outputs": [],
   "source": [
    "from sklearn.preprocessing import StandardScaler\n",
    "scaler = StandardScaler()\n",
    "\n",
    "x = scaler.fit_transform(X)\n",
    "test_set = scaler.transform(test_set)"
   ]
  },
  {
   "cell_type": "markdown",
   "id": "75d59446",
   "metadata": {
    "papermill": {
     "duration": 0.054054,
     "end_time": "2021-12-16T16:11:41.633870",
     "exception": false,
     "start_time": "2021-12-16T16:11:41.579816",
     "status": "completed"
    },
    "tags": []
   },
   "source": [
    "# Model Building"
   ]
  },
  {
   "cell_type": "code",
   "execution_count": 20,
   "id": "664411a3",
   "metadata": {},
   "outputs": [],
   "source": [
    "from sklearn.model_selection import train_test_split\n",
    "from sklearn.metrics import accuracy_score, confusion_matrix, classification_report\n",
    "from sklearn.metrics import roc_curve, roc_auc_score, auc\n",
    "from sklearn.model_selection import cross_val_score\n",
    "from time import time"
   ]
  },
  {
   "cell_type": "code",
   "execution_count": 21,
   "id": "5b9ef2a6",
   "metadata": {},
   "outputs": [],
   "source": [
    "def beststate(model):\n",
    "    max_score = 0\n",
    "    max_state = 0\n",
    "    conf_matrix = 0\n",
    "    start = time()\n",
    "    for i in range(72,75):\n",
    "        X_train, X_test, y_train, y_test = train_test_split(x, y, test_size=0.20, random_state=i)\n",
    "        model.fit(X_train, y_train)\n",
    "        y_pre = model.predict(X_test)\n",
    "        score = accuracy_score(y_test, y_pre)\n",
    "        confu_matrix = confusion_matrix(y_test, y_pre)\n",
    "        if score > max_score:\n",
    "            max_score = score\n",
    "            conf_matrix = confu_matrix\n",
    "            max_state = i\n",
    "    print(\"Best Random State      : \",max_state)\n",
    "    print(\"Best Accuracy Score    : \",max_score)\n",
    "    print(\"Confusion Matrix       : \\n\", conf_matrix)\n",
    "    print(\"Cross Validation Score : \",cross_val_score(model, X_train, y_train, cv=5).mean())\n",
    "    end = time()\n",
    "    print(\"\\nTime taken by model for prediction {:.4f} seconds\".format(end-start))"
   ]
  },
  {
   "cell_type": "code",
   "execution_count": 22,
   "id": "c7f8af5d",
   "metadata": {},
   "outputs": [
    {
     "name": "stdout",
     "output_type": "stream",
     "text": [
      "Best Random State      :  74\n",
      "Best Accuracy Score    :  0.8379888268156425\n",
      "Confusion Matrix       : \n",
      " [[99 13]\n",
      " [16 51]]\n",
      "Cross Validation Score :  0.7850783019797104\n",
      "\n",
      "Time taken by model for prediction 0.1211 seconds\n"
     ]
    }
   ],
   "source": [
    "# Logistic Regression\n",
    "from sklearn.linear_model import LogisticRegression\n",
    "logr = LogisticRegression()\n",
    "beststate(logr)"
   ]
  },
  {
   "cell_type": "code",
   "execution_count": 23,
   "id": "559f5b0d",
   "metadata": {},
   "outputs": [
    {
     "name": "stdout",
     "output_type": "stream",
     "text": [
      "Best Random State      :  74\n",
      "Best Accuracy Score    :  0.8491620111731844\n",
      "Confusion Matrix       : \n",
      " [[96 16]\n",
      " [11 56]]\n",
      "Cross Validation Score :  0.7908007485472274\n",
      "\n",
      "Time taken by model for prediction 3.8137 seconds\n"
     ]
    }
   ],
   "source": [
    "# RandomForestClassifier\n",
    "from sklearn.ensemble import RandomForestClassifier\n",
    "rf = RandomForestClassifier()\n",
    "beststate(rf)"
   ]
  },
  {
   "cell_type": "code",
   "execution_count": 24,
   "id": "4226e4e9",
   "metadata": {},
   "outputs": [
    {
     "name": "stdout",
     "output_type": "stream",
     "text": [
      "Best Random State      :  74\n",
      "Best Accuracy Score    :  0.8268156424581006\n",
      "Confusion Matrix       : \n",
      " [[94 18]\n",
      " [13 54]]\n",
      "Cross Validation Score :  0.7500935684034277\n",
      "\n",
      "Time taken by model for prediction 0.0510 seconds\n"
     ]
    }
   ],
   "source": [
    "# DecisionTreeClassifier\n",
    "from sklearn.tree import DecisionTreeClassifier\n",
    "dt = DecisionTreeClassifier()\n",
    "beststate(dt)"
   ]
  },
  {
   "cell_type": "code",
   "execution_count": 25,
   "id": "49e92f2f",
   "metadata": {},
   "outputs": [
    {
     "name": "stdout",
     "output_type": "stream",
     "text": [
      "Best Random State      :  74\n",
      "Best Accuracy Score    :  0.8435754189944135\n",
      "Confusion Matrix       : \n",
      " [[99 13]\n",
      " [15 52]]\n",
      "Cross Validation Score :  0.7879936964444006\n",
      "\n",
      "Time taken by model for prediction 0.1557 seconds\n"
     ]
    }
   ],
   "source": [
    "# KNeighborsClassifier\n",
    "from sklearn.neighbors import KNeighborsClassifier\n",
    "kn = KNeighborsClassifier()\n",
    "beststate(kn)"
   ]
  },
  {
   "cell_type": "code",
   "execution_count": 26,
   "id": "f18a5f3e",
   "metadata": {},
   "outputs": [
    {
     "name": "stdout",
     "output_type": "stream",
     "text": [
      "Best Random State      :  73\n",
      "Best Accuracy Score    :  0.8156424581005587\n",
      "Confusion Matrix       : \n",
      " [[101  17]\n",
      " [ 16  45]]\n",
      "Cross Validation Score :  0.7865458485176795\n",
      "\n",
      "Time taken by model for prediction 0.0449 seconds\n"
     ]
    }
   ],
   "source": [
    "# GaussianNB\n",
    "from sklearn.naive_bayes import GaussianNB\n",
    "nb = GaussianNB()\n",
    "beststate(nb)"
   ]
  },
  {
   "cell_type": "markdown",
   "id": "15191758",
   "metadata": {},
   "source": [
    "# Hyper parameter Tuning"
   ]
  },
  {
   "cell_type": "code",
   "execution_count": 27,
   "id": "4947d24c",
   "metadata": {},
   "outputs": [
    {
     "data": {
      "text/plain": [
       "{'n_estimators': 200, 'min_samples_leaf': 2, 'max_features': 4}"
      ]
     },
     "execution_count": 27,
     "metadata": {},
     "output_type": "execute_result"
    }
   ],
   "source": [
    "X_train, X_test, y_train, y_test = train_test_split(x, y, test_size=0.20, random_state=72)\n",
    "\n",
    "from sklearn.model_selection import RandomizedSearchCV\n",
    "param_dist = {\"min_samples_leaf\" : [1,2,3],\n",
    "              \"n_estimators\" : [100,200],\n",
    "              \"max_features\": [1,2,3,4]}\n",
    "rnd_search = RandomizedSearchCV(rf, param_distributions=param_dist)\n",
    "rnd_search.fit(X_train, y_train)\n",
    "rnd_search.best_params_"
   ]
  },
  {
   "cell_type": "code",
   "execution_count": 28,
   "id": "0dc63100",
   "metadata": {
    "scrolled": true
   },
   "outputs": [
    {
     "name": "stdout",
     "output_type": "stream",
     "text": [
      "Classification report\n",
      "               precision    recall  f1-score   support\n",
      "\n",
      "           0       0.85      0.86      0.85       106\n",
      "           1       0.79      0.78      0.79        73\n",
      "\n",
      "    accuracy                           0.83       179\n",
      "   macro avg       0.82      0.82      0.82       179\n",
      "weighted avg       0.83      0.83      0.83       179\n",
      "\n",
      "Accuracy : 0.8268156424581006\n"
     ]
    }
   ],
   "source": [
    "# Final Model\n",
    "best_model = RandomForestClassifier(min_samples_leaf=2, n_estimators=200, max_features=4)\n",
    "X_train, X_test, y_train, y_test = train_test_split(x, y, test_size=0.20, random_state=72)\n",
    "best_model.fit(X_train, y_train)\n",
    "y_pred = best_model.predict(X_test)\n",
    "print(f\"Classification report\\n {classification_report(y_pred, y_test)}\")\n",
    "print(f\"Accuracy : {accuracy_score(y_test, y_pred)}\")"
   ]
  },
  {
   "cell_type": "markdown",
   "id": "a7d28a16",
   "metadata": {},
   "source": [
    "Since, after hyper parameter tuning, my accuracy decreases, so let's save and predict with out hyper parameter tuning."
   ]
  },
  {
   "cell_type": "markdown",
   "id": "431f5ba5",
   "metadata": {},
   "source": [
    "# Predicting and Saving the model"
   ]
  },
  {
   "cell_type": "code",
   "execution_count": 45,
   "id": "5bba8b27",
   "metadata": {},
   "outputs": [
    {
     "data": {
      "text/html": [
       "<div>\n",
       "<style scoped>\n",
       "    .dataframe tbody tr th:only-of-type {\n",
       "        vertical-align: middle;\n",
       "    }\n",
       "\n",
       "    .dataframe tbody tr th {\n",
       "        vertical-align: top;\n",
       "    }\n",
       "\n",
       "    .dataframe thead th {\n",
       "        text-align: right;\n",
       "    }\n",
       "</style>\n",
       "<table border=\"1\" class=\"dataframe\">\n",
       "  <thead>\n",
       "    <tr style=\"text-align: right;\">\n",
       "      <th></th>\n",
       "      <th>PassengerId</th>\n",
       "      <th>Survived</th>\n",
       "    </tr>\n",
       "  </thead>\n",
       "  <tbody>\n",
       "    <tr>\n",
       "      <th>0</th>\n",
       "      <td>892</td>\n",
       "      <td>0</td>\n",
       "    </tr>\n",
       "    <tr>\n",
       "      <th>1</th>\n",
       "      <td>893</td>\n",
       "      <td>0</td>\n",
       "    </tr>\n",
       "    <tr>\n",
       "      <th>2</th>\n",
       "      <td>894</td>\n",
       "      <td>0</td>\n",
       "    </tr>\n",
       "    <tr>\n",
       "      <th>3</th>\n",
       "      <td>895</td>\n",
       "      <td>1</td>\n",
       "    </tr>\n",
       "    <tr>\n",
       "      <th>4</th>\n",
       "      <td>896</td>\n",
       "      <td>0</td>\n",
       "    </tr>\n",
       "    <tr>\n",
       "      <th>...</th>\n",
       "      <td>...</td>\n",
       "      <td>...</td>\n",
       "    </tr>\n",
       "    <tr>\n",
       "      <th>413</th>\n",
       "      <td>1305</td>\n",
       "      <td>0</td>\n",
       "    </tr>\n",
       "    <tr>\n",
       "      <th>414</th>\n",
       "      <td>1306</td>\n",
       "      <td>1</td>\n",
       "    </tr>\n",
       "    <tr>\n",
       "      <th>415</th>\n",
       "      <td>1307</td>\n",
       "      <td>0</td>\n",
       "    </tr>\n",
       "    <tr>\n",
       "      <th>416</th>\n",
       "      <td>1308</td>\n",
       "      <td>0</td>\n",
       "    </tr>\n",
       "    <tr>\n",
       "      <th>417</th>\n",
       "      <td>1309</td>\n",
       "      <td>0</td>\n",
       "    </tr>\n",
       "  </tbody>\n",
       "</table>\n",
       "<p>418 rows × 2 columns</p>\n",
       "</div>"
      ],
      "text/plain": [
       "     PassengerId  Survived\n",
       "0            892         0\n",
       "1            893         0\n",
       "2            894         0\n",
       "3            895         1\n",
       "4            896         0\n",
       "..           ...       ...\n",
       "413         1305         0\n",
       "414         1306         1\n",
       "415         1307         0\n",
       "416         1308         0\n",
       "417         1309         0\n",
       "\n",
       "[418 rows x 2 columns]"
      ]
     },
     "execution_count": 45,
     "metadata": {},
     "output_type": "execute_result"
    }
   ],
   "source": [
    "predicted = rf.predict(test_set)\n",
    "df=pd.DataFrame({'PassengerId':test.PassengerId,'Survived':predicted})\n",
    "df.drop(df.index)\n",
    "df"
   ]
  },
  {
   "cell_type": "code",
   "execution_count": 46,
   "id": "135f2d4d",
   "metadata": {},
   "outputs": [],
   "source": [
    "df.to_csv(\"Titanic Prediction.csv\", index = False)"
   ]
  },
  {
   "cell_type": "code",
   "execution_count": null,
   "id": "96c6c0bc",
   "metadata": {},
   "outputs": [],
   "source": []
  }
 ],
 "metadata": {
  "kernelspec": {
   "display_name": "Python 3",
   "language": "python",
   "name": "python3"
  },
  "language_info": {
   "codemirror_mode": {
    "name": "ipython",
    "version": 3
   },
   "file_extension": ".py",
   "mimetype": "text/x-python",
   "name": "python",
   "nbconvert_exporter": "python",
   "pygments_lexer": "ipython3",
   "version": "3.8.8"
  },
  "papermill": {
   "default_parameters": {},
   "duration": 103.199479,
   "end_time": "2021-12-16T16:13:04.306610",
   "environment_variables": {},
   "exception": null,
   "input_path": "__notebook__.ipynb",
   "output_path": "__notebook__.ipynb",
   "parameters": {},
   "start_time": "2021-12-16T16:11:21.107131",
   "version": "2.3.3"
  }
 },
 "nbformat": 4,
 "nbformat_minor": 5
}
